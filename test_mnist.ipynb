{
 "cells": [
  {
   "cell_type": "code",
   "execution_count": 1,
   "metadata": {},
   "outputs": [],
   "source": [
    "%matplotlib inline\n",
    "\n",
    "%load_ext autoreload\n",
    "%autoreload 2"
   ]
  },
  {
   "cell_type": "code",
   "execution_count": 2,
   "metadata": {},
   "outputs": [],
   "source": [
    "import logging\n",
    "import os\n",
    "import time\n",
    "import matplotlib\n",
    "\n",
    "import numpy as np\n",
    "import matplotlib.pyplot as plt\n",
    "import torch.backends.cudnn as cudnn\n",
    "import torch.nn as nn\n",
    "import torch.optim as optim\n",
    "\n",
    "from lib.dataset_utils import *\n",
    "from lib.mnist_model import *\n",
    "from lib.custom_layers import *\n",
    "from lib.ibp_layers import *"
   ]
  },
  {
   "cell_type": "code",
   "execution_count": 3,
   "metadata": {},
   "outputs": [],
   "source": [
    "import os\n",
    "os.environ[\"CUDA_DEVICE_ORDER\"] = \"PCI_BUS_ID\"\n",
    "os.environ[\"CUDA_VISIBLE_DEVICES\"] = \"0\""
   ]
  },
  {
   "cell_type": "code",
   "execution_count": 4,
   "metadata": {},
   "outputs": [],
   "source": [
    "exp = 8\n",
    "model_name = 'mnist_linf_ibp_exp%d.h5' % exp\n",
    "\n",
    "# net = IBPMedium()\n",
    "\n",
    "params = {'p': 2,\n",
    "          'epsilon': 1,\n",
    "          'input_bound': (0, 1)}\n",
    "net = IBPSmallCustom(LpLinear, params)"
   ]
  },
  {
   "cell_type": "code",
   "execution_count": 5,
   "metadata": {},
   "outputs": [
    {
     "data": {
      "text/plain": [
       "IBPSmallCustom(\n",
       "  (fc1): LpLinear(in_features=784, out_features=2000, bias=True)\n",
       "  (relu1): IBPReLU(inplace=True)\n",
       "  (fc2): IBPLinear()\n",
       "  (relu2): IBPReLU(inplace=True)\n",
       "  (fc3): IBPLinear()\n",
       "  (relu3): IBPReLU(inplace=True)\n",
       "  (fc4): IBPLinear()\n",
       ")"
      ]
     },
     "execution_count": 5,
     "metadata": {},
     "output_type": "execute_result"
    }
   ],
   "source": [
    "# Set all random seeds\n",
    "seed = 2019\n",
    "np.random.seed(seed)\n",
    "torch.manual_seed(seed)\n",
    "\n",
    "device = 'cuda' if torch.cuda.is_available() else 'cpu'\n",
    "\n",
    "# Set up model directory\n",
    "save_dir = os.path.join(os.getcwd(), 'saved_models/')\n",
    "if not os.path.isdir(save_dir):\n",
    "    os.makedirs(save_dir)\n",
    "model_path = os.path.join(save_dir, model_name)\n",
    "\n",
    "net = net.to(device)\n",
    "# if device == 'cuda':\n",
    "#     net = torch.nn.DataParallel(net)\n",
    "#     cudnn.benchmark = True\n",
    "net.load_state_dict(torch.load(model_path))\n",
    "# net = net.module\n",
    "# net = net.basic_net\n",
    "net.eval()"
   ]
  },
  {
   "cell_type": "code",
   "execution_count": 6,
   "metadata": {},
   "outputs": [],
   "source": [
    "(x_train, y_train), _, (x_test, y_test) = load_mnist_all(\n",
    "    '/data', val_size=0, seed=seed)"
   ]
  },
  {
   "cell_type": "code",
   "execution_count": 32,
   "metadata": {},
   "outputs": [],
   "source": [
    "params = {'p': 2,\n",
    "          'epsilon': eps,\n",
    "          'input_bound': (0, 1)}\n",
    "\n",
    "with torch.no_grad():\n",
    "    out = net(x_test.cuda(), params)\n",
    "    diff = net.get_bound(x_test.cuda(), y_test.cuda(), params)"
   ]
  },
  {
   "cell_type": "code",
   "execution_count": 33,
   "metadata": {},
   "outputs": [
    {
     "data": {
      "text/plain": [
       "tensor(0.9573, device='cuda:0')"
      ]
     },
     "execution_count": 33,
     "metadata": {},
     "output_type": "execute_result"
    }
   ],
   "source": [
    "(diff >= 0).float().mean()"
   ]
  },
  {
   "cell_type": "code",
   "execution_count": 27,
   "metadata": {},
   "outputs": [],
   "source": [
    "num = 50000\n",
    "idx = 0\n",
    "\n",
    "# l2\n",
    "v = torch.normal(0., 1., size=(num, 784))\n",
    "v = F.normalize(v, p=2, dim=1)\n",
    "r = torch.rand((num, 784)) ** (1 / 784)\n",
    "# r = 1\n",
    "x = (eps * r * v).view(num, 1, 28, 28) + x_test[idx]\n",
    "\n",
    "with torch.no_grad():\n",
    "    sample_out = net(x.cuda())"
   ]
  },
  {
   "cell_type": "code",
   "execution_count": 28,
   "metadata": {},
   "outputs": [],
   "source": [
    "z_ub = out[1].cpu().numpy()\n",
    "z_lb = out[2].cpu().numpy()\n",
    "z = sample_out[0].cpu().numpy()"
   ]
  },
  {
   "cell_type": "code",
   "execution_count": 29,
   "metadata": {},
   "outputs": [
    {
     "data": {
      "image/png": "[encoded data removed]",
      "text/plain": [
       "<Figure size 432x288 with 1 Axes>"
      ]
     },
     "metadata": {
      "needs_background": "light"
     },
     "output_type": "display_data"
    }
   ],
   "source": [
    "from matplotlib.collections import PatchCollection\n",
    "from matplotlib.patches import Rectangle\n",
    "\n",
    "axis1 = 0\n",
    "axis2 = 7\n",
    "\n",
    "fig, ax = plt.subplots(1)\n",
    "rc = Rectangle((z_lb[idx, axis1], z_lb[idx, axis2]), \n",
    "               z_ub[idx, axis1] - z_lb[idx, axis1],\n",
    "               z_ub[idx, axis2] - z_lb[idx, axis2],\n",
    "               fill=False, color='r', lw=3)\n",
    "ax.add_patch(rc)\n",
    "plt.scatter(z[:, axis1], z[:, axis2], s=1)\n",
    "plt.grid(True)\n",
    "plt.xlabel(r'$z_0$')\n",
    "plt.ylabel(r'$z_1$')\n",
    "plt.savefig('ibp_l2_2_2.png', dpi=300, bbox_inches='tight')\n",
    "fig.show()"
   ]
  },
  {
   "cell_type": "code",
   "execution_count": 112,
   "metadata": {},
   "outputs": [],
   "source": [
    "def get_input_bound(x, eps):\n",
    "    x_ub = torch.clamp(x + eps, 0, 1)\n",
    "    x_lb = torch.clamp(x - eps, 0, 1)\n",
    "    return x, x_ub, x_lb"
   ]
  },
  {
   "cell_type": "code",
   "execution_count": 122,
   "metadata": {},
   "outputs": [],
   "source": [
    "eps = 0.2\n",
    "x_tuple = get_input_bound(x_test.to(device), eps)\n",
    "\n",
    "with torch.no_grad():\n",
    "    out = net(x_tuple)\n",
    "    diff = net.get_bound(x_tuple, y_test.to(device))"
   ]
  },
  {
   "cell_type": "code",
   "execution_count": 123,
   "metadata": {},
   "outputs": [
    {
     "data": {
      "text/plain": [
       "tensor(0.8972, device='cuda:0')"
      ]
     },
     "execution_count": 123,
     "metadata": {},
     "output_type": "execute_result"
    }
   ],
   "source": [
    "(diff >= 0).float().mean()"
   ]
  },
  {
   "cell_type": "code",
   "execution_count": 115,
   "metadata": {},
   "outputs": [],
   "source": [
    "num = 50000\n",
    "eps = 0.2\n",
    "idx = 0\n",
    "\n",
    "# l-inf\n",
    "noise = torch.rand((num, 784)) * 2 - 1\n",
    "x = (eps * noise).view(num, 1, 28, 28) + x_test[idx]\n",
    "with torch.no_grad():\n",
    "    sample_out = net((x.cuda(), None, None))"
   ]
  },
  {
   "cell_type": "code",
   "execution_count": 124,
   "metadata": {},
   "outputs": [],
   "source": [
    "z_ub = out[1].cpu().numpy()\n",
    "z_lb = out[2].cpu().numpy()\n",
    "z = sample_out[0].cpu().numpy()"
   ]
  },
  {
   "cell_type": "code",
   "execution_count": 139,
   "metadata": {},
   "outputs": [
    {
     "data": {
      "image/png": "[encoded data removed]",
      "text/plain": [
       "<Figure size 432x288 with 1 Axes>"
      ]
     },
     "metadata": {
      "needs_background": "light"
     },
     "output_type": "display_data"
    }
   ],
   "source": [
    "from matplotlib.collections import PatchCollection\n",
    "from matplotlib.patches import Rectangle\n",
    "\n",
    "axis1 = 0\n",
    "axis2 = 7\n",
    "\n",
    "fig, ax = plt.subplots(1)\n",
    "rc = Rectangle((z_lb[idx, axis1], z_lb[idx, axis2]), \n",
    "               z_ub[idx, axis1] - z_lb[idx, axis1],\n",
    "               z_ub[idx, axis2] - z_lb[idx, axis2],\n",
    "               fill=False, color='r', lw=3)\n",
    "ax.add_patch(rc)\n",
    "plt.scatter(z[:, axis1], z[:, axis2], s=1)\n",
    "plt.grid(True)\n",
    "plt.xlabel(r'$z_0$')\n",
    "plt.ylabel(r'$z_1$')\n",
    "plt.savefig('ibp_linf_2.png', dpi=300, bbox_inches='tight')\n",
    "fig.show()"
   ]
  },
  {
   "cell_type": "code",
   "execution_count": 131,
   "metadata": {},
   "outputs": [
    {
     "data": {
      "text/plain": [
       "tensor(0.1000)"
      ]
     },
     "execution_count": 131,
     "metadata": {},
     "output_type": "execute_result"
    }
   ],
   "source": [
    "(x_test[0]/10).norm(p=float(\"inf\"))"
   ]
  },
  {
   "cell_type": "code",
   "execution_count": 134,
   "metadata": {},
   "outputs": [
    {
     "data": {
      "text/plain": [
       "tensor(7)"
      ]
     },
     "execution_count": 134,
     "metadata": {},
     "output_type": "execute_result"
    }
   ],
   "source": [
    "y_test[0]"
   ]
  },
  {
   "cell_type": "code",
   "execution_count": null,
   "metadata": {},
   "outputs": [],
   "source": []
  },
  {
   "cell_type": "code",
   "execution_count": null,
   "metadata": {},
   "outputs": [],
   "source": []
  },
  {
   "cell_type": "code",
   "execution_count": 8,
   "metadata": {},
   "outputs": [],
   "source": [
    "epss = np.arange(0, 3, 0.2)\n",
    "accs = []\n",
    "\n",
    "for exp in [8, 11, 12]:\n",
    "    model_name = 'mnist_linf_ibp_exp%d.h5' % exp\n",
    "    model_path = os.path.join(save_dir, model_name)\n",
    "    net.load_state_dict(torch.load(model_path))\n",
    "    \n",
    "    acc = np.zeros(len(epss))\n",
    "\n",
    "    for i, eps in enumerate(epss):\n",
    "        params = {'p': 2,\n",
    "                  'epsilon': eps,\n",
    "                  'input_bound': (0, 1)}\n",
    "\n",
    "        with torch.no_grad():\n",
    "            diff = net.get_bound(x_test.cuda(), y_test.cuda(), params)\n",
    "\n",
    "        acc[i] = (diff >= 0).float().mean().item()\n",
    "    accs.append(acc)"
   ]
  },
  {
   "cell_type": "code",
   "execution_count": 26,
   "metadata": {},
   "outputs": [],
   "source": [
    "import matplotlib\n",
    "# matplotlib.rcParams['mathtext.fontset'] = 'custom'\n",
    "# matplotlib.rcParams['mathtext.rm'] = 'Bitstream Vera Sans'\n",
    "# matplotlib.rcParams['mathtext.it'] = 'Bitstream Vera Sans:italic'\n",
    "# matplotlib.rcParams['mathtext.bf'] = 'Bitstream Vera Sans:bold'\n",
    "matplotlib.rcParams['mathtext.fontset'] = 'stix'\n",
    "matplotlib.rcParams['font.family'] = 'STIXGeneral'\n",
    "plt.rcParams[\"mathtext.fontset\"] = \"cm\"\n",
    "# plt.rcParams[\"text.usetex\"] = False"
   ]
  },
  {
   "cell_type": "code",
   "execution_count": 40,
   "metadata": {},
   "outputs": [
    {
     "data": {
      "image/png": "[encoded data removed]",
      "text/plain": [
       "<Figure size 432x288 with 1 Axes>"
      ]
     },
     "metadata": {
      "needs_background": "light"
     },
     "output_type": "display_data"
    }
   ],
   "source": [
    "fs = 15\n",
    "plt.plot(epss, accs[1], lw=3, label=r'$\\epsilon_{train}=0.5$')\n",
    "plt.plot(epss, accs[0], lw=3, label=r'$\\epsilon_{train}=1$')\n",
    "plt.plot(epss, accs[2], lw=3, label=r'$\\epsilon_{train}=1.5$')\n",
    "plt.xlabel(r'$\\epsilon_{test}$', fontsize=fs)\n",
    "plt.ylabel('Worst-Case Accuracy', fontsize=fs)\n",
    "plt.xticks(fontsize=fs)\n",
    "plt.yticks(fontsize=fs)\n",
    "plt.legend(fontsize=fs)\n",
    "plt.show()"
   ]
  },
  {
   "cell_type": "code",
   "execution_count": null,
   "metadata": {},
   "outputs": [],
   "source": []
  }
 ],
 "metadata": {
  "kernelspec": {
   "display_name": "Python 3",
   "language": "python",
   "name": "python3"
  },
  "language_info": {
   "codemirror_mode": {
    "name": "ipython",
    "version": 3
   },
   "file_extension": ".py",
   "mimetype": "text/x-python",
   "name": "python",
   "nbconvert_exporter": "python",
   "pygments_lexer": "ipython3",
   "version": "3.6.5"
  }
 },
 "nbformat": 4,
 "nbformat_minor": 4
}
