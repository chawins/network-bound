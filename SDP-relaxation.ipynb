{
 "cells": [
  {
   "cell_type": "code",
   "execution_count": 36,
   "metadata": {},
   "outputs": [
    {
     "name": "stdout",
     "output_type": "stream",
     "text": [
      "The autoreload extension is already loaded. To reload it, use:\n",
      "  %reload_ext autoreload\n"
     ]
    }
   ],
   "source": [
    "import numpy as np\n",
    "import cvxpy as cp\n",
    "import scipy.io\n",
    "from matplotlib import pyplot as plt\n",
    "%matplotlib inline\n",
    "\n",
    "%load_ext autoreload\n",
    "%autoreload 2"
   ]
  },
  {
   "cell_type": "code",
   "execution_count": 2,
   "metadata": {},
   "outputs": [],
   "source": [
    "nn_weights_mat = scipy.io.loadmat('784-60-40-10weights.mat')\n",
    "\n",
    "layer0 = nn_weights_mat['0.weight']  # 60 x 784\n",
    "layer1 = nn_weights_mat['2.weight']  # 40 x 60\n",
    "layer2 = nn_weights_mat['4.weight']  # 10 x 40\n",
    "nn_weights = [layer0, layer1, layer2]"
   ]
  },
  {
   "cell_type": "code",
   "execution_count": 76,
   "metadata": {},
   "outputs": [],
   "source": [
    "def relu(x):\n",
    "    return np.clip(x, 0, None)\n",
    "\n",
    "\n",
    "def forward(x, weight, bias):\n",
    "    if bias:\n",
    "        return relu(weight @ x + bias)\n",
    "    else:\n",
    "        return relu(weight @ x)\n",
    "    \n",
    "\n",
    "def ibp(x_tuple, weight, bias=None):\n",
    "    x, x_ub, x_lb = x_tuple\n",
    "    \n",
    "    # run a normal forward pass\n",
    "    z = forward(x, weight, bias)\n",
    "    \n",
    "    mu = (x_ub + x_lb) / 2\n",
    "    r = (x_ub - x_lb) / 2\n",
    "    mu = forward(mu, weight, bias)\n",
    "    r = forward(r, np.abs(weight), bias)\n",
    "    z_lb = mu - r\n",
    "    z_ub = mu + r\n",
    "    \n",
    "    return z, z_ub, z_lb"
   ]
  },
  {
   "cell_type": "code",
   "execution_count": 77,
   "metadata": {},
   "outputs": [],
   "source": [
    "n1, n0 = layer0.shape\n",
    "random_x = np.random.random((n0, 1))\n",
    "sigma_x = 1e-1 * np.ones((n0, 1))"
   ]
  },
  {
   "cell_type": "code",
   "execution_count": 78,
   "metadata": {},
   "outputs": [],
   "source": [
    "x_tuple = (random_x, random_x + sigma_x, random_x - sigma_x)\n",
    "z1, z1_ub, z1_lb = ibp(x_tuple, layer0)"
   ]
  },
  {
   "cell_type": "code",
   "execution_count": 79,
   "metadata": {},
   "outputs": [],
   "source": [
    "# plt.figure(figsize=(15, 5))\n",
    "# plt.plot(z1)\n",
    "# plt.plot(z1_ub)\n",
    "# plt.plot(z1_lb);"
   ]
  },
  {
   "cell_type": "markdown",
   "metadata": {},
   "source": [
    "### MNIST\n",
    "SDP for first layer. Input is 784 x 1.\n",
    "\n",
    "- $D_{\\eta}$: 784 x 784\n",
    "- $D_{\\lambda}$: 60 x 60\n",
    "- $\\mu$: 60 x 1\n",
    "- $\\nu$: 60 x 1\n",
    "- $e_i$ or $\\textbf{1}$: 60 x 1\n",
    "- $W_0$: 60 x 784 "
   ]
  },
  {
   "cell_type": "code",
   "execution_count": 89,
   "metadata": {},
   "outputs": [
    {
     "name": "stdout",
     "output_type": "stream",
     "text": [
      "----------------------------------------------------------------------------\n",
      "\tSCS v2.0.2 - Splitting Conic Solver\n",
      "\t(c) Brendan O'Donoghue, Stanford University, 2012-2017\n",
      "----------------------------------------------------------------------------\n",
      "Lin-sys: sparse-indirect, nnz in A = 145461, CG tol ~ 1/iter^(2.00)\n",
      "eps = 1.00e-04, alpha = 1.50, max_iters = 5000, normalize = 1, scale = 1.00\n",
      "acceleration_lookback = 20, rho_x = 1.00e-03\n",
      "Variables n = 965, constraints m = 714989\n",
      "Cones:\tlinear vars: 964\n",
      "\tsd vars: 714025, sd blks: 2\n",
      "Setup time: 4.62e-02s\n",
      "----------------------------------------------------------------------------\n",
      " Iter | pri res | dua res | rel gap | pri obj | dua obj | kap/tau | time (s)\n",
      "----------------------------------------------------------------------------\n",
      "     0| 1.22e+00  4.95e+02  9.99e-01 -5.47e+00  1.17e+03  0.00e+00  7.58e-01 \n",
      "   100| 6.70e+18  3.26e+21  4.42e-01  2.01e+22  5.20e+22  3.16e+22  5.50e+01 \n",
      "   200| 3.81e+18  1.89e+21  2.76e-01  2.17e+22  3.82e+22  1.62e+22  9.66e+01 \n",
      "   300| 7.04e-01  3.29e+02  2.30e-03  1.15e+04  1.15e+04  1.98e-14  1.37e+02 \n",
      "   400| 3.02e-01  1.54e+02  3.24e-05  1.19e+04  1.19e+04  1.87e-13  1.78e+02 \n",
      "   500| 7.10e-01  2.92e+02  4.81e-03  7.41e+03  7.34e+03  5.96e-13  2.20e+02 \n",
      "   600| 1.34e-01  6.34e+01  4.10e-03  6.69e+03  6.63e+03  1.53e-02  2.62e+02 \n",
      "   700| 3.40e-01  1.74e+02  2.31e-03  5.89e+03  5.87e+03  6.14e-03  3.06e+02 \n",
      "   800| 3.44e-01  1.93e+02  3.29e-03  6.15e+03  6.19e+03  2.49e-13  3.49e+02 \n",
      "   900| 4.79e-01  1.41e+02  2.22e-02  6.99e+03  6.69e+03  8.93e-13  3.93e+02 \n",
      "  1000| 2.00e+00  4.06e+02  2.81e-02  9.08e+03  9.60e+03  2.29e+02  4.41e+02 \n",
      "  1100| 4.06e+17  2.53e+20  2.40e-01  2.60e+21  4.25e+21  1.66e+21  4.85e+02 \n",
      "  1200| 7.03e-01  4.01e+02  1.38e-03  3.96e+04  3.97e+04  4.64e-13  5.27e+02 \n",
      "  1300| 2.83e-01  1.38e+02  5.96e-04  3.17e+04  3.17e+04  7.60e+00  5.72e+02 \n",
      "  1400| 2.11e-01  6.81e+01  2.57e-03  2.53e+04  2.52e+04  9.09e-01  6.23e+02 \n",
      "  1500| 1.64e-01  8.08e+01  3.17e-04  3.12e+04  3.12e+04  6.40e-01  6.73e+02 \n",
      "  1600| 1.79e-01  9.25e+01  2.57e-03  3.15e+04  3.16e+04  1.90e+01  7.15e+02 \n",
      "  1700| 4.87e-01  1.83e+02  1.80e-03  4.82e+04  4.80e+04  9.57e+01  7.58e+02 \n",
      "  1800| 5.86e-01  2.66e+02  6.86e-04  6.51e+04  6.52e+04  5.40e-14  8.06e+02 \n",
      "  1900| 1.59e-01  8.29e+01  1.09e-03  5.93e+04  5.92e+04  1.68e+02  8.62e+02 \n",
      "  2000| 8.86e-02  5.80e+01  1.04e-04  6.40e+04  6.40e+04  7.94e-14  9.12e+02 \n",
      "  2100| 1.80e+00  7.55e+02  4.01e-03  8.21e+04  8.27e+04  1.33e+03  9.63e+02 \n",
      "  2200| 1.07e-01  6.40e+01  9.34e-05  5.78e+04  5.78e+04  3.88e-13  1.02e+03 \n",
      "  2300| 6.83e-02  6.08e+01  3.26e-04  6.72e+04  6.72e+04  8.37e-13  1.07e+03 \n",
      "  2400| 9.75e-02  3.40e+01  1.22e-04  6.66e+04  6.66e+04  9.40e-13  1.12e+03 \n",
      "  2500| 3.70e-02  1.73e+01  1.31e-04  6.69e+04  6.69e+04  1.07e-12  1.18e+03 \n",
      "  2600| 1.14e+00  2.85e+02  1.04e-04  7.51e+04  7.51e+04  6.66e-12  1.22e+03 \n",
      "  2700| 1.95e-02  1.72e+01  1.53e-05  6.47e+04  6.47e+04  1.04e-12  1.28e+03 \n",
      "  2800| 1.05e-01  1.11e+02  2.08e-05  6.61e+04  6.61e+04  5.07e-13  1.33e+03 \n",
      "  2900| 5.14e-01  1.90e+02  1.00e-03  7.71e+04  7.73e+04  1.84e-11  1.37e+03 \n",
      "  3000| 7.92e-02  3.84e+01  2.88e-04  6.72e+04  6.73e+04  3.18e-12  1.42e+03 \n",
      "  3100| 2.51e-02  2.75e+01  4.45e-05  6.57e+04  6.57e+04  2.74e-13  1.47e+03 \n",
      "  3200| 6.76e-02  2.88e+01  1.90e-05  6.51e+04  6.51e+04  4.43e-13  1.53e+03 \n",
      "  3300| 7.03e-02  2.66e+01  1.53e-05  6.52e+04  6.52e+04  2.01e-14  1.57e+03 \n",
      "  3400| 2.58e-02  1.80e+01  5.46e-06  6.61e+04  6.61e+04  1.26e-13  1.61e+03 \n",
      "  3500| 1.13e-02  7.53e+00  4.47e-07  6.66e+04  6.66e+04  1.42e-13  1.65e+03 \n",
      "  3600| 3.04e-02  1.19e+01  4.86e-07  6.66e+04  6.66e+04  6.58e-13  1.70e+03 \n",
      "  3700| 3.73e-02  2.62e+01  1.47e-05  6.65e+04  6.65e+04  3.56e-13  1.74e+03 \n",
      "  3800| 9.30e-03  5.27e+00  4.68e-06  6.65e+04  6.65e+04  2.47e-13  1.78e+03 \n",
      "  3900| 2.11e-02  8.17e+00  1.68e-06  6.66e+04  6.66e+04  6.04e-13  1.83e+03 \n",
      "  4000| 2.72e-02  2.30e+01  7.59e-07  6.66e+04  6.66e+04  5.71e-14  1.87e+03 \n",
      "  4100| 8.14e-02  3.55e+01  9.94e-06  6.65e+04  6.65e+04  4.64e-12  1.91e+03 \n",
      "  4200| 1.56e-02  5.95e+00  2.84e-07  6.65e+04  6.65e+04  1.09e-12  2.01e+03 \n",
      "  4300| 1.67e+00  5.54e+02  2.69e-05  7.02e+04  7.02e+04  5.14e-11  2.10e+03 \n",
      "  4400| 1.91e-02  1.53e+01  8.99e-06  6.63e+04  6.63e+04  7.57e-13  2.18e+03 \n",
      "  4500| 7.89e-02  3.05e+01  6.02e-06  6.60e+04  6.60e+04  7.83e-13  2.26e+03 \n",
      "  4600| 2.03e-01  1.22e+02  1.73e-05  6.88e+04  6.88e+04  2.88e-12  2.33e+03 \n",
      "  4700| 1.02e-02  7.13e+00  5.01e-07  6.66e+04  6.66e+04  1.52e-13  2.40e+03 \n",
      "  4800| 5.17e-02  1.76e+01  1.57e-05  6.67e+04  6.67e+04  1.32e-12  2.50e+03 \n",
      "  4900| 1.19e-01  5.59e+01  3.90e-05  6.66e+04  6.66e+04  6.11e-13  2.57e+03 \n",
      "  5000| 4.73e-02  2.95e+01  3.48e-05  6.69e+04  6.69e+04  2.49e-12  2.64e+03 \n",
      "----------------------------------------------------------------------------\n",
      "Status: Solved/Inaccurate\n",
      "Hit max_iters, solution may be inaccurate\n",
      "Timing: Solve time: 2.64e+03s\n",
      "\tLin-sys: avg # CG iterations: 38.34, avg solve time: 1.01e-01s\n",
      "\tCones: avg projection time: 2.88e-01s\n",
      "\tAcceleration: avg step time: 1.13e-01s\n",
      "----------------------------------------------------------------------------\n",
      "Error metrics:\n",
      "dist(s, K) = 9.2532e-06, dist(y, K*) = 4.6581e-05, s'y/|s||y| = 1.0609e-11\n",
      "primal res: |Ax + s - b|_2 / (1 + |b|_2) = 4.7336e-02\n",
      "dual res:   |A'y + c|_2 / (1 + |c|_2) = 2.9502e+01\n",
      "rel gap:    |c'x + b'y| / (1 + |c'x| + |b'y|) = 3.4793e-05\n",
      "----------------------------------------------------------------------------\n",
      "c'x = 66873.8737, -b'y = 66878.5274\n",
      "============================================================================\n",
      "The optimal value is 66873.87370540718\n"
     ]
    }
   ],
   "source": [
    "x0 = random_x.copy()\n",
    "n1, n0 = layer0.shape\n",
    "\n",
    "# create dual variables\n",
    "eta = cp.Variable(n0)       # 784\n",
    "D_eta = cp.diag(eta)        # 784 x 784\n",
    "lambda_ = cp.Variable(n1)   # 60\n",
    "D_lambda = cp.diag(lambda_) # 60 x 60\n",
    "mu = cp.Variable((n1, 1))   # 60 x 1\n",
    "nu = cp.Variable((n1, 1))   # 60 x 1\n",
    "t = cp.Variable((1, 1))     # 1\n",
    "\n",
    "# given variables\n",
    "e = np.ones((n1, 1))        # 60 x 1\n",
    "W0 = layer0.copy()          # 60 x 784\n",
    "\n",
    "# formulate H matrix\n",
    "c = eta @ (sigma_x ** 2 - x0 ** 2)\n",
    "q = cp.vstack([e + mu + nu, -W0.T@nu + D_eta@x0])\n",
    "Q = cp.vstack([cp.hstack([D_lambda, 0.5 * D_lambda@W0]), cp.hstack([0.5 * W0.T@D_lambda, -D_eta])])\n",
    "H = cp.hstack([cp.vstack([t-c, q]), cp.vstack([q.T, -Q])])\n",
    "\n",
    "constraints = [H >> 0, -Q >> 0, lambda_ >= 0, mu >= 0, nu >= 0, eta >= 0]\n",
    "prob = cp.Problem(cp.Minimize(cp.trace(t)), constraints)\n",
    "prob.solve(verbose=True)\n",
    "\n",
    "# Print result.\n",
    "print(\"The optimal value is\", prob.value)"
   ]
  },
  {
   "cell_type": "code",
   "execution_count": 90,
   "metadata": {},
   "outputs": [
    {
     "data": {
      "text/plain": [
       "66873.87370540718"
      ]
     },
     "execution_count": 90,
     "metadata": {},
     "output_type": "execute_result"
    }
   ],
   "source": [
    "prob.value"
   ]
  },
  {
   "cell_type": "code",
   "execution_count": 91,
   "metadata": {},
   "outputs": [
    {
     "data": {
      "text/plain": [
       "33.023116534551875"
      ]
     },
     "execution_count": 91,
     "metadata": {},
     "output_type": "execute_result"
    }
   ],
   "source": [
    "z1_ub.max()"
   ]
  },
  {
   "cell_type": "code",
   "execution_count": null,
   "metadata": {},
   "outputs": [],
   "source": []
  }
 ],
 "metadata": {
  "kernelspec": {
   "display_name": "Python 3",
   "language": "python",
   "name": "python3"
  },
  "language_info": {
   "codemirror_mode": {
    "name": "ipython",
    "version": 3
   },
   "file_extension": ".py",
   "mimetype": "text/x-python",
   "name": "python",
   "nbconvert_exporter": "python",
   "pygments_lexer": "ipython3",
   "version": "3.6.2"
  }
 },
 "nbformat": 4,
 "nbformat_minor": 2
}
